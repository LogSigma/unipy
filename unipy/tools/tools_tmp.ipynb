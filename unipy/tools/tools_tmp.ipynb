{
 "cells": [
  {
   "cell_type": "code",
   "execution_count": 1,
   "metadata": {
    "collapsed": false
   },
   "outputs": [
    {
     "ename": "SyntaxError",
     "evalue": "invalid syntax (<ipython-input-1-7dddbc081308>, line 3)",
     "output_type": "error",
     "traceback": [
      "\u001b[0;36m  File \u001b[0;32m\"<ipython-input-1-7dddbc081308>\"\u001b[0;36m, line \u001b[0;32m3\u001b[0m\n\u001b[0;31m    class PairNumberException(Exception)\u001b[0m\n\u001b[0m                                        ^\u001b[0m\n\u001b[0;31mSyntaxError\u001b[0m\u001b[0;31m:\u001b[0m invalid syntax\n"
     ]
    }
   ],
   "source": [
    "# Get User-Defined Exception\n",
    "\n",
    "class PairNumberException(Exception)"
   ]
  },
  {
   "cell_type": "code",
   "execution_count": 4,
   "metadata": {
    "collapsed": false
   },
   "outputs": [],
   "source": [
    "# Split an iterable by equal length\n",
    "import collections\n",
    "import itertools as it\n",
    "import numpy as np\n",
    "\n",
    "def splitter(iterable, how='equal', size=2):\n",
    "    \n",
    "    isinstance(iterable, collections.Iterable)\n",
    "    isinstance(size, int)\n",
    "    \n",
    "    if not size > 0:\n",
    "\n",
    "        raise ValueError(\"'size' must be greater than 0\")\n",
    "\n",
    "    else:\n",
    "        \n",
    "        if how == 'equal':\n",
    "\n",
    "            resList = np.array_split(iterable, (len(aa) / size) + 1)\n",
    "            \n",
    "            return resList\n",
    "        \n",
    "        elif how == 'remaining':\n",
    "\n",
    "            tmpIterator = iter(iterable)\n",
    "            splitted = iter(lambda: tuple(it.islice(tmpIterator, size)), ())\n",
    "            resList = list(splitted)\n",
    "            \n",
    "            return resList"
   ]
  },
  {
   "cell_type": "code",
   "execution_count": null,
   "metadata": {
    "collapsed": true
   },
   "outputs": [],
   "source": [
    "import pandas as pd\n",
    "\n",
    "def uniquePair(*args):\n",
    "    \n",
    "    res = tuple(set(list(zip(*args))))\n",
    "    \n",
    "    return res"
   ]
  }
 ],
 "metadata": {
  "kernelspec": {
   "display_name": "Python3.5 (conda env)",
   "language": "python",
   "name": "python3.5"
  },
  "language_info": {
   "codemirror_mode": {
    "name": "ipython",
    "version": 3
   },
   "file_extension": ".py",
   "mimetype": "text/x-python",
   "name": "python",
   "nbconvert_exporter": "python",
   "pygments_lexer": "ipython3",
   "version": "3.5.3"
  }
 },
 "nbformat": 4,
 "nbformat_minor": 2
}
